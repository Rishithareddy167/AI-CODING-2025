{
  "nbformat": 4,
  "nbformat_minor": 0,
  "metadata": {
    "colab": {
      "provenance": [],
      "toc_visible": true,
      "authorship_tag": "ABX9TyNCee6hxmD3sirgg+XXt051",
      "include_colab_link": true
    },
    "kernelspec": {
      "name": "python3",
      "display_name": "Python 3"
    },
    "language_info": {
      "name": "python"
    }
  },
  "cells": [
    {
      "cell_type": "markdown",
      "metadata": {
        "id": "view-in-github",
        "colab_type": "text"
      },
      "source": [
        "<a href=\"https://colab.research.google.com/github/Rishithareddy167/AI-CODING-2025/blob/main/lab2_3.ipynb\" target=\"_parent\"><img src=\"https://colab.research.google.com/assets/colab-badge.svg\" alt=\"Open In Colab\"/></a>"
      ]
    },
    {
      "cell_type": "code",
      "execution_count": null,
      "metadata": {
        "id": "e2cHgH53b0gt"
      },
      "outputs": [],
      "source": []
    },
    {
      "cell_type": "markdown",
      "source": [
        "Task Description#1\n",
        "● Use Google Gemini in Colab to write a function that reads a CSV file and calculates\n",
        "mean, min, max.\n",
        "Expected Output#1\n",
        "● Functional code with output and screenshot"
      ],
      "metadata": {
        "id": "QERAs8CdcJti"
      }
    },
    {
      "cell_type": "code",
      "source": [
        "import pandas as pd\n",
        "import numpy as np\n",
        "\n",
        "def calculate_stats_from_csv(file_path):\n",
        "  \"\"\"\n",
        "  Reads a CSV file and calculates mean, min, and max for numerical columns.\n",
        "\n",
        "  Args:\n",
        "    file_path (str): The path to the CSV file.\n",
        "\n",
        "  Returns:\n",
        "    dict: A dictionary containing mean, min, and max for each numerical column.\n",
        "          Returns None if the file cannot be read or no numerical columns are found.\n",
        "  \"\"\"\n",
        "  try:\n",
        "    df = pd.read_csv(file_path)\n",
        "  except FileNotFoundError:\n",
        "    print(f\"Error: File not found at {file_path}\")\n",
        "    return None\n",
        "  except Exception as e:\n",
        "    print(f\"Error reading CSV file: {e}\")\n",
        "    return None\n",
        "\n",
        "  numerical_cols = df.select_dtypes(include=np.number)\n",
        "\n",
        "  if numerical_cols.empty:\n",
        "    print(\"No numerical columns found in the CSV.\")\n",
        "    return None\n",
        "\n",
        "  stats = {}\n",
        "  for col in numerical_cols.columns:\n",
        "    stats[col] = {\n",
        "        'mean': numerical_cols[col].mean(),\n",
        "        'min': numerical_cols[col].min(),\n",
        "        'max': numerical_cols[col].max()\n",
        "    }\n",
        "  return stats\n",
        "\n",
        "# Example usage:\n",
        "# Create a dummy CSV file for demonstration\n",
        "\n",
        "dummy_csv_path ='/2_3LAB.csv'\n",
        "# Calculate stats from the dummy CSV\n",
        "stats = calculate_stats_from_csv(dummy_csv_path)\n",
        "\n",
        "if stats:\n",
        "  for col, col_stats in stats.items():\n",
        "    print(f\"Column: {col}\")\n",
        "    print(f\"  Mean: {col_stats['mean']}\")\n",
        "    print(f\"  Min: {col_stats['min']}\")\n",
        "    print(f\"  Max: {col_stats['max']}\")"
      ],
      "metadata": {
        "colab": {
          "base_uri": "https://localhost:8080/"
        },
        "id": "WNKPW1SJmQH3",
        "outputId": "7bf597b4-49c9-443a-e84c-4418bb839904"
      },
      "execution_count": null,
      "outputs": [
        {
          "output_type": "stream",
          "name": "stdout",
          "text": [
            "Column: 1\n",
            "  Mean: 5.0\n",
            "  Min: 2\n",
            "  Max: 8\n",
            "Column: 2\n",
            "  Mean: 4.666666666666667\n",
            "  Min: 2\n",
            "  Max: 9\n",
            "Column: 1.1\n",
            "  Mean: 5.888888888888889\n",
            "  Min: 2\n",
            "  Max: 9\n"
          ]
        }
      ]
    },
    {
      "cell_type": "markdown",
      "source": [
        "Task Description#2\n",
        "● Compare Gemini and Copilot outputs for a palindrome check function.\n",
        "Expected Output#2\n",
        "● Side-by-side comparison and observations"
      ],
      "metadata": {
        "id": "VcIpfF_oJVcJ"
      }
    },
    {
      "cell_type": "code",
      "source": [],
      "metadata": {
        "id": "lSLv0iCeJ1wa"
      },
      "execution_count": null,
      "outputs": []
    },
    {
      "cell_type": "code",
      "metadata": {
        "colab": {
          "base_uri": "https://localhost:8080/"
        },
        "id": "82a36ad8",
        "outputId": "b288a31a-dcb2-497d-f448-de47ff61a5f5"
      },
      "source": [
        "def is_palindrome(s):\n",
        "  \"\"\"Checks if a string is a palindrome.\n",
        "\n",
        "  Args:\n",
        "    s: The input string.\n",
        "\n",
        "  Returns:\n",
        "    True if the string is a palindrome, False otherwise.\n",
        "  \"\"\"\n",
        "  # Remove spaces and convert to lowercase for case-insensitive comparison\n",
        "  s = s.replace(\" \", \"\").lower()\n",
        "  return s == s[::-1]\n",
        "\n",
        "# Example usage:\n",
        "print(is_palindrome(\"racecar\"))\n",
        "print(is_palindrome(\"hello\"))\n",
        "print(is_palindrome(\"A man a plan a canal Panama\"))"
      ],
      "execution_count": 1,
      "outputs": [
        {
          "output_type": "stream",
          "name": "stdout",
          "text": [
            "True\n",
            "False\n",
            "True\n"
          ]
        }
      ]
    },
    {
      "cell_type": "markdown",
      "source": [
        "Task Description#3\n",
        "● Ask Gemini to explain a Python function (to calculate area of various shapes) line by\n",
        "line..\n",
        "Expected Output#3\n",
        "● Detailed explanation with code snippet"
      ],
      "metadata": {
        "id": "ROnqQpxSKdn4"
      }
    },
    {
      "cell_type": "code",
      "source": [
        "import math\n",
        "\n",
        "def calculate_area(shape, **kwargs):\n",
        "  \"\"\"Calculates the area of different shapes.\n",
        "\n",
        "  Args:\n",
        "    shape (str): The name of the shape ('square', 'rectangle', 'circle', 'triangle').\n",
        "    **kwargs: Keyword arguments for the dimensions of the shape.\n",
        "\n",
        "  Returns:\n",
        "    float: The area of the shape, or None if the shape is not supported or\n",
        "           dimensions are missing.\n",
        "  \"\"\"\n",
        "  if shape == 'square':\n",
        "    side = kwargs.get('side')\n",
        "    if side is not None:\n",
        "      return side ** 2\n",
        "  elif shape == 'rectangle':\n",
        "    length = kwargs.get('length')\n",
        "    width = kwargs.get('width')\n",
        "    if length is not None and width is not None:\n",
        "      return length * width\n",
        "  elif shape == 'circle':\n",
        "    radius = kwargs.get('radius')\n",
        "    if radius is not None:\n",
        "      return math.pi * radius ** 2\n",
        "  elif shape == 'triangle':\n",
        "    base = kwargs.get('base')\n",
        "    height = kwargs.get('height')\n",
        "    if base is not None and height is not None:\n",
        "      return 0.5 * base * height\n",
        "  else:\n",
        "    print(f\"Error: Unsupported shape '{shape}'\")\n",
        "    return None\n",
        "\n",
        "# Example usage:\n",
        "print(f\"Area of square with side 5: {calculate_area('square', side=5)}\")\n",
        "print(f\"Area of rectangle with length 4 and width 6: {calculate_area('rectangle', length=4, width=6)}\")\n",
        "print(f\"Area of circle with radius 3: {calculate_area('circle', radius=3)}\")\n",
        "print(f\"Area of triangle with base 7 and height 4: {calculate_area('triangle', base=7, height=4)}\")\n",
        "print(f\"Area of unknown shape: {calculate_area('pentagon', side=5)}\")"
      ],
      "metadata": {
        "colab": {
          "base_uri": "https://localhost:8080/"
        },
        "id": "caJf_VXtKlSs",
        "outputId": "aa82dbff-6d02-43af-b660-5bd4bf038ce1"
      },
      "execution_count": 2,
      "outputs": [
        {
          "output_type": "stream",
          "name": "stdout",
          "text": [
            "Area of square with side 5: 25\n",
            "Area of rectangle with length 4 and width 6: 24\n",
            "Area of circle with radius 3: 28.274333882308138\n",
            "Area of triangle with base 7 and height 4: 14.0\n",
            "Error: Unsupported shape 'pentagon'\n",
            "Area of unknown shape: None\n"
          ]
        }
      ]
    },
    {
      "cell_type": "markdown",
      "source": [
        "ask Description#4\n",
        "● Install and configure Cursor AI. Use it to generate a Python function (e.g., sum of\n",
        "squares).\n",
        "Expected Output#4\n",
        "● Screenshots of working environments with few prompts to generate python code"
      ],
      "metadata": {
        "id": "CdLWmzPMKyRv"
      }
    },
    {
      "cell_type": "code",
      "source": [
        "def sum_of_squares(n):\n",
        "  \"\"\"Calculates the sum of squares of numbers up to n.\"\"\"\n",
        "  return sum(i**2 for i in range(1, n + 1))\n",
        "\n",
        "# Example usage:\n",
        "print(f\"Sum of squares up to 5: {sum_of_squares(5)}\")"
      ],
      "metadata": {
        "colab": {
          "base_uri": "https://localhost:8080/"
        },
        "id": "s99OPEdTK4yP",
        "outputId": "80bc8bc7-dfd3-4480-8aa8-458d49fdf49e"
      },
      "execution_count": 3,
      "outputs": [
        {
          "output_type": "stream",
          "name": "stdout",
          "text": [
            "Sum of squares up to 5: 55\n"
          ]
        }
      ]
    },
    {
      "cell_type": "markdown",
      "source": [
        "ask Description#5\n",
        "● Student need to write code to calculate sum of add number and even numbers in the\n",
        "list\n",
        "Expected Output#5\n",
        "● Refactored code written by student with improved logic\n"
      ],
      "metadata": {
        "id": "okvZl8gvLCA0"
      }
    },
    {
      "cell_type": "code",
      "source": [
        "def sum_odd_even(numbers):\n",
        "  \"\"\"Calculates the sum of odd and even numbers in a list.\n",
        "\n",
        "  Args:\n",
        "    numbers: A list of numbers.\n",
        "\n",
        "  Returns:\n",
        "    A tuple containing the sum of odd numbers and the sum of even numbers.\n",
        "  \"\"\"\n",
        "  sum_odd = 0\n",
        "  sum_even = 0\n",
        "  for number in numbers:\n",
        "    if number % 2 == 0:\n",
        "      sum_even += number\n",
        "    else:\n",
        "      sum_odd += number\n",
        "  return sum_odd, sum_even\n",
        "\n",
        "# Example usage:\n",
        "my_list = [1, 2, 3, 4, 5, 6, 7, 8, 9, 10]\n",
        "odd_sum, even_sum = sum_odd_even(my_list)\n",
        "print(f\"Sum of odd numbers: {odd_sum}\")\n",
        "print(f\"Sum of even numbers: {even_sum}\")"
      ],
      "metadata": {
        "colab": {
          "base_uri": "https://localhost:8080/"
        },
        "id": "wK2AuFOZLIGY",
        "outputId": "72b7e495-e6b7-4356-e07d-377a1e398565"
      },
      "execution_count": 4,
      "outputs": [
        {
          "output_type": "stream",
          "name": "stdout",
          "text": [
            "Sum of odd numbers: 25\n",
            "Sum of even numbers: 30\n"
          ]
        }
      ]
    }
  ]
}