{
  "nbformat": 4,
  "nbformat_minor": 0,
  "metadata": {
    "colab": {
      "provenance": [],
      "authorship_tag": "ABX9TyMeSePWh0A2/R20TyDJzI8k",
      "include_colab_link": true
    },
    "kernelspec": {
      "name": "python3",
      "display_name": "Python 3"
    },
    "language_info": {
      "name": "python"
    }
  },
  "cells": [
    {
      "cell_type": "markdown",
      "metadata": {
        "id": "view-in-github",
        "colab_type": "text"
      },
      "source": [
        "<a href=\"https://colab.research.google.com/github/Rishithareddy167/AI-CODING-2025/blob/main/lab_4_3.ipynb\" target=\"_parent\"><img src=\"https://colab.research.google.com/assets/colab-badge.svg\" alt=\"Open In Colab\"/></a>"
      ]
    },
    {
      "cell_type": "code",
      "execution_count": 2,
      "metadata": {
        "colab": {
          "base_uri": "https://localhost:8080/"
        },
        "id": "Kx2Y7bHtOnRG",
        "outputId": "e96ccb83-b484-47c4-f03a-7417bd444a6e"
      },
      "outputs": [
        {
          "output_type": "stream",
          "name": "stdout",
          "text": [
            "2024\n",
            "True\n"
          ]
        }
      ],
      "source": [
        "def is_leap(year):\n",
        "  \"\"\"Checks if a given year is a leap year.\"\"\"\n",
        "  return (year % 4 == 0 and year % 100 != 0) or (year % 400 == 0)\n",
        "a=int(input())\n",
        "print(is_leap(a))"
      ]
    },
    {
      "cell_type": "markdown",
      "source": [
        "\n",
        "d"
      ],
      "metadata": {
        "id": "-9kURuwfR6QV"
      }
    },
    {
      "cell_type": "code",
      "source": [
        "\n",
        "def format_name():\n",
        "    full_name = input(\"Enter full name (First Last): \").strip()\n",
        "    parts = full_name.split()\n",
        "    if len(parts) != 2:\n",
        "        print(\"Please enter a name in 'First Last' format.\")\n",
        "        return\n",
        "    first, last = parts\n",
        "    print(f\"{last} , {first}\")\n",
        "\n",
        "if __name__ == \"__main__\":\n",
        "    format_name()\n",
        "\n"
      ],
      "metadata": {
        "colab": {
          "base_uri": "https://localhost:8080/"
        },
        "id": "9B3tXxxnR_Of",
        "outputId": "d78a85a2-91ff-4ce3-eebf-82b8e62bf844"
      },
      "execution_count": 9,
      "outputs": [
        {
          "output_type": "stream",
          "name": "stdout",
          "text": [
            "Enter full name (First Last): sri  varshini\n",
            "varshini , sri\n"
          ]
        }
      ]
    },
    {
      "cell_type": "code",
      "source": [
        "\n",
        "def count_vowels(s):\n",
        "    vowels = 'aeiouAEIOU'\n",
        "    return sum(1 for char in s if char in vowels)\n",
        "\n",
        "if __name__ == \"__main__\":\n",
        "    user_input = input(\"Enter a string: \")\n",
        "    print(\"Number of vowels:\", count_vowels(user_input))\n"
      ],
      "metadata": {
        "colab": {
          "base_uri": "https://localhost:8080/"
        },
        "id": "avkzPhF6SAHx",
        "outputId": "553c9757-bd02-466f-ddfb-9444e8f365d1"
      },
      "execution_count": 10,
      "outputs": [
        {
          "output_type": "stream",
          "name": "stdout",
          "text": [
            "Enter a string: \"hello\"\n",
            "Number of vowels: 2\n"
          ]
        }
      ]
    },
    {
      "cell_type": "code",
      "source": [
        "\n",
        "def count_lines_in_file(filename):\n",
        "    try:\n",
        "        with open(filename, 'r') as file:\n",
        "            lines = file.readlines()\n",
        "            return len(lines)\n",
        "    except FileNotFoundError:\n",
        "        print(f\"File '{filename}' not found.\")\n",
        "        return None\n",
        "\n",
        "if __name__ == \"__main__\":\n",
        "    filename = input(\"Enter the filename: \")\n",
        "    num_lines = count_lines_in_file(filename)\n",
        "    if num_lines is not None:\n",
        "        print(f\"Number of lines : {num_lines}\")\n"
      ],
      "metadata": {
        "id": "TJwtXXetScK7"
      },
      "execution_count": null,
      "outputs": []
    }
  ]
}